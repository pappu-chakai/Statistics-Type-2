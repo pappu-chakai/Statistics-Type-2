{
  "nbformat": 4,
  "nbformat_minor": 0,
  "metadata": {
    "colab": {
      "provenance": []
    },
    "kernelspec": {
      "name": "python3",
      "display_name": "Python 3"
    },
    "language_info": {
      "name": "python"
    }
  },
  "cells": [
    {
      "cell_type": "markdown",
      "source": [
        "**Theory**"
      ],
      "metadata": {
        "id": "yiFqbFj-htW0"
      }
    },
    {
      "cell_type": "markdown",
      "source": [
        "Q1.  What is hypothesis testing in statistics?\n",
        "\n",
        "     ANS:- Statistical hypothesis testing is a method used to determine if\n",
        "           evidence supports a specific claim (the hypothesis) about a population parameter or distribution, by analyzing data from a sample and comparing it to a null hypothesis."
      ],
      "metadata": {
        "id": "Rjs90L_0h1OY"
      }
    },
    {
      "cell_type": "markdown",
      "source": [
        "Q2.  What is the null hypothesis, and how does it differ from the alternative\n",
        "     hypothesis?\n",
        "\n",
        "     ANS:-The null hypothesis (H0) assumes no effect or relationship between\n",
        "         variables, while the alternative hypothesis (Ha) proposes a statistically significant effect or relationship.\n",
        "\n",
        "        ** Null Hypothesis (H0):**\n",
        "          1. Represents the default assumption of \"no effect\" or \"no   \n",
        "             difference\".\n",
        "          2. It's the hypothesis that researchers aim to disprove or reject.\n",
        "         Examples:\n",
        "           \"There is no difference in the average test scores between two\n",
        "            groups.\"\n",
        "           \"The new drug has no effect on reducing blood pressure.\"\n",
        "           \"There is no relationship between hours of study and exam grades.\"\n",
        "        **Alternative Hypothesis (Ha):**\n",
        "          1. States that there is a statistically significant effect or\n",
        "             relationship.\n",
        "          2. It's the hypothesis that researchers are trying to prove or       support.\n",
        "       Examples:\n",
        "           \"There is a significant difference in the average test scores between two groups.\"\n",
        "           \"The new drug has a significant effect on reducing blood pressure.\"\n",
        "           \"There is a relationship between hours of study and exam grades.\"\n"
      ],
      "metadata": {
        "id": "Qp2Jl6Avm8_n"
      }
    },
    {
      "cell_type": "markdown",
      "source": [
        "Q3.What is the significance level in hypothesis testing, and why is it\n",
        "   important?\n",
        "\n",
        "   ANS:-The significance level (α) in hypothesis testing represents the\n",
        "        probability of rejecting the null hypothesis when it is actually true. It's a threshold value that determines how much evidence is needed to reject the null hypothesis.\n",
        "\n",
        "        **Importance:**\n",
        "        1. **Control of Type I Error:** The significance level directly  \n",
        "             controls the probability of making a Type I error, which is rejecting the null hypothesis when it is true.\n",
        "        2. **Decision-Making:** It helps researchers make a decision about      \n",
        "             whether to reject or fail to reject the null hypothesis based on the p-value (probability of observing the data given that the null hypothesis is true). If the p-value is less than the significance level, we reject the null hypothesis.\n",
        "        3. **Confidence Level:** It is related to the confidence level (1-α) in\n",
        "             the confidence interval estimation, which represents the probability that the true population parameter falls within a specific range.\n",
        "        4. **Interpretation:** Choosing an appropriate significance level helps\n",
        "             researchers interpret the results of the hypothesis test and draw meaningful conclusions about their research questions."
      ],
      "metadata": {
        "id": "7MB1ZhZrooz8"
      }
    },
    {
      "cell_type": "markdown",
      "source": [
        "Q4.What does a P-value represent in hypothesis testing?\n",
        "\n",
        "   ANS:-In hypothesis testing, the p-value represents the probability of\n",
        "        observing the obtained results (or more extreme results) if the null hypothesis were true.\n",
        "\n",
        "        In simpler terms, it tells us how likely it is to get the data we have if there's actually no real effect or relationship in the population.\n",
        "\n",
        "        **Example:**\n",
        "         Imagine we're testing if a new fertilizer increases crop yield. The null hypothesis is that the fertilizer has no effect. We collect data and find a p-value of 0.03. Since this is below the significance level of 0.05, we reject the null hypothesis and conclude that the fertilizer likely does increase crop yield."
      ],
      "metadata": {
        "id": "4gLc_ADwqMuO"
      }
    },
    {
      "cell_type": "markdown",
      "source": [
        "Q5.How do you interpret the P-value in hypothesis testing?\n",
        "\n",
        "   ANS:-The p-value represents the probability of observing the obtained  \n",
        "        results (or more extreme results) if the null hypothesis were true.\n",
        "\n",
        "       Interpreting P-values:\n",
        "         1. P-value < alpha (e.g., p < 0.05): The observed results are unlikely\n",
        "            to have occurred if the null hypothesis were true. This leads to the rejection of the null hypothesis in favor of the alternative hypothesis.\n",
        "         2. P-value >= alpha (e.g., p >= 0.05): The observed results are likely\n",
        "            to have occurred if the null hypothesis were true. In this case, the null hypothesis is not rejected.\n",
        "\n",
        "       Example:\n",
        "         If a study finds a p-value of 0.02 (less than the 0.05 significance level), there's a statistically significant difference between the groups being compared, and the null hypothesis (no difference) is rejected."
      ],
      "metadata": {
        "id": "UTnH43jOrfe6"
      }
    },
    {
      "cell_type": "markdown",
      "source": [
        "Q6. What are Type 1 and Type 2 errors in hypothesis testing?\n",
        "\n",
        "   ANS:-Type I Error (False Positive):\n",
        "          You conclude that there's an effect or relationship when, in reality, there isn't.\n",
        "          Think of it as raising a false alarm when there's no actual danger.\n",
        "\n",
        "        Example: A medical test incorrectly indicates that a person has a\n",
        "                 disease when they don't.\n",
        "\n",
        "        Type II Error (False Negative):\n",
        "          You fail to detect an effect or relationship that actually exists.\n",
        "          Think of it as missing a signal when there is one.\n",
        "\n",
        "        Example: A medical test incorrectly indicates that a person doesn't  \n",
        "                 have a disease when they actually do."
      ],
      "metadata": {
        "id": "U_mu1r2Rs2pJ"
      }
    },
    {
      "cell_type": "markdown",
      "source": [
        "Q7. What is the difference between a one-tailed and a two-tailed test in\n",
        "     hypothesis testing?\n",
        "\n",
        "   ANS:- One-tailed test:\n",
        "          1. Also known as a directional test.\n",
        "          2. Tests for a difference in a specific direction (either an increase\n",
        "             or a decrease).\n",
        "          3. The alternative hypothesis specifies a direction.\n",
        "         Example: Testing if a new drug decreases blood pressure.\n",
        "\n",
        "        Two-tailed test:\n",
        "         1. Also known as a non-directional test.\n",
        "         2. Tests for a difference, regardless of direction (either an increase\n",
        "            or decrease).\n",
        "         4. The alternative hypothesis does not specify a direction.\n",
        "       Example: Testing if a new drug has any effect on blood pressure (either\n",
        "                increases or decreases)."
      ],
      "metadata": {
        "id": "Cnysb-Vqtf0l"
      }
    },
    {
      "cell_type": "markdown",
      "source": [
        "Q8. What is the Z-test, and when is it used in hypothesis testing?\n",
        "\n",
        "   ANS:-A z-test is a statistical test used in hypothesis testing to determine\n",
        "        if there's a significant difference between a sample mean and a population mean, or between two population means, when the population standard deviation is known or the sample size is large (n ≥ 30).\n",
        "\n",
        "        When is a Z-test used in hypothesis testing?\n",
        "          1. One-sample z-test: Used to compare a sample mean to a known\n",
        "             population mean.\n",
        "          2. Two-sample z-test: Used to compare the means of two independent\n",
        "             samples.\n",
        "          3. Hypothesis testing: The z-test is used to test a hypothesis about\n",
        "             the population mean, such as:\n",
        "             1. Null hypothesis: The population mean is equal to a specific\n",
        "                 value.\n",
        "             2. Alternative hypothesis: The population mean is greater than,\n",
        "                less than, or not equal to a specific value."
      ],
      "metadata": {
        "id": "ePCSqu5wvG0w"
      }
    },
    {
      "cell_type": "markdown",
      "source": [
        "Q9.  How do you calculate the Z-score, and what does it represent in hypothesis testing?\n",
        "\n",
        "   ANS:-To calculate a z-score, you subtract the population mean from a data\n",
        "        point and divide the result by the population standard deviation.\n",
        "\n",
        "       Calculating the Z-score:\n",
        "         1.  The formula for calculating the Z-score is:\n",
        "         2. Z = (X - μ) / σ\n",
        "       Where:\n",
        "          X = the individual data point\n",
        "          μ = the population mean\n",
        "          σ = the population standard deviation\n",
        "\n",
        "      What does the Z-score represent?\n",
        "        # In hypothesis testing, the Z-score represents the number of standard deviations that a data point is away from the population mean.\n",
        "        \n",
        "        # It is used to determine how likely it is to observe a particular data point or sample mean if the null hypothesis is true.\n"
      ],
      "metadata": {
        "id": "DjQvx24HwOVt"
      }
    },
    {
      "cell_type": "markdown",
      "source": [
        "Q10. What is the T-distribution, and when should it be used instead of the normal distribution?\n",
        "\n",
        "   ANS:-The t-distribution, also known as Student's t-distribution, is a\n",
        "        probability distribution that is similar to the normal distribution but has heavier tails. It is used when the population standard deviation is unknown and the sample size is small (typically n < 30).\n",
        "\n",
        "        1. Unknown population standard deviation: When the population standard deviation is not known, we need to estimate it using the sample standard deviation. This introduces uncertainty, and the t-distribution accounts for this uncertainty by having heavier tails than the normal distribution.\n",
        "\n",
        "       2. Small sample size: When the sample size is small, the sample mean may not accurately reflect the true population mean. The t-distribution accounts for this by having more variability in its tails, allowing for a wider range of possible values for the sample mean.\n",
        "\n",
        "       3. In essence, the t-distribution is a more conservative approach when  the population standard deviation is unknown or the sample size is small. It provides a more accurate estimate of the true population mean and reduces the risk of making incorrect conclusions about the population based on the limited sample data.\n",
        "\n",
        "       # Example:\n",
        "        If we are interested in comparing the mean heights of two groups of students, and we have small sample sizes for each group and don't know the population standard deviation, we should use the t-distribution rather than the normal distribution to perform the statistical test."
      ],
      "metadata": {
        "id": "qtT-kZClyceX"
      }
    },
    {
      "cell_type": "markdown",
      "source": [
        "Q11.  What is the difference between a Z-test and a T-test?\n",
        "\n",
        "ANS:- Z-test:\n",
        "       1. Used when the population standard deviation is known or the sample  \n",
        "          size is large (typically n ≥ 30).\n",
        "       2. Assumes a normal distribution of the data.\n",
        "       3. Uses the standard normal distribution (Z-distribution).\n",
        "       4. More powerful when the population standard deviation is known.\n",
        "\n",
        "     T-test:\n",
        "       1. Used when the population standard deviation is unknown and the sample\n",
        "          size is small (typically n < 30).\n",
        "       2. Assumes a t-distribution of the data.\n",
        "       3. Uses the t-distribution.\n",
        "       4. More conservative when the population standard deviation is unknown.\n",
        "\n",
        "\n"
      ],
      "metadata": {
        "id": "BU-qYMeRzMjb"
      }
    },
    {
      "cell_type": "markdown",
      "source": [
        "Q12. What is the T-test, and how is it used in hypothesis testing?\n",
        "\n",
        "   ANS:-A t-test is a statistical test used to compare the means of two groups,\n",
        "        or a sample mean to a known value, and is a crucial tool in hypothesis testing, determining if observed differences are statistically significant or due to chance.\n",
        "\n",
        "        When to Use a T-test:\n",
        "        1. Comparing Means of Two Groups:\n",
        "           When you want to know if there's a statistically significant difference in the average values of two groups.\n",
        "\n",
        "          Example: Comparing the average test scores of students who received\n",
        "             tutoring to those who didn't.\n",
        "        2. Comparing Sample Mean to Population Mean:\n",
        "            When you want to test if a sample's average value is significantly\n",
        "            different from a known population mean.\n",
        "         Example: Comparing the average weight of a sample of apples to the    \n",
        "                  average weight of all apples produced by an orchard."
      ],
      "metadata": {
        "id": "to6AyaCh0KEo"
      }
    },
    {
      "cell_type": "markdown",
      "source": [
        "Q13. What is the relationship between Z-test and T-test in hypothesis testing?\n",
        "\n",
        "   ANS:-Both Z-tests and T-tests are used to determine if there's a\n",
        "        statistically significant difference between a sample mean and a population mean, orbetween two population means. However, they differ in the circumstancesunder which they are applied:\n",
        "\n",
        "     Z-test:\n",
        "        1. Used when the population standard deviation is known or the sample size\n",
        "        2. is large (typically n ≥ 30).\n",
        "        3. Assumes a normal distribution of the data.\n",
        "        4. More powerful when the population standard deviation is known.\n",
        "\n",
        "     T-test:\n",
        "        1. Used when the population standard deviation is unknown and the sample\n",
        "        2. size is small (typically n < 30).\n",
        "        3. Assumes a t-distribution of the data.\n",
        "        4. More conservative when the population standard deviation is unknown."
      ],
      "metadata": {
        "id": "K226-8kU1Nk5"
      }
    },
    {
      "cell_type": "markdown",
      "source": [
        "Q14.  What is a confidence interval, and how is it used to interpret statistical results?\n",
        "\n",
        "   ANS:- confidence interval (CI) is a range of values used to estimate an\n",
        "         unknown population parameter (like a mean) based on sample data, with a certain level of confidence (e.g., 95%) that the true value lies within that range.\n",
        "\n",
        "         how is it used to interpret statistical results?\n",
        "\n",
        "         1. Quantifying Uncertainty:\n",
        "              Confidence intervals help quantify the uncertainty associated with point estimates (e.g., sample mean).\n",
        "         2. Estimating the True Value:\n",
        "              They provide a range of plausible values for the true population parameter, rather than just a single estimate.\n",
        "         3. Statistical Significance:\n",
        "              Confidence intervals can be used to assess statistical significance. If the confidence interval for a difference or effect size does not include zero (for differences) or one (for ratios), the result is considered statistically significant at the chosen confidence level.\n",
        "        4. Magnitude of Effect:\n",
        "              The width of the confidence interval provides information about the precision of the estimate. A narrower interval indicates a more precise estimate.\n",
        "\n",
        "\n"
      ],
      "metadata": {
        "id": "qJqJAfOw2LiW"
      }
    },
    {
      "cell_type": "markdown",
      "source": [
        "Q15 What is the margin of error, and how does it affect the confidence interval?\n",
        "\n",
        "   ANS:- The margin of error quantifies the potential difference between a\n",
        "         sample statistic and the true population parameter, while the confidence interval is a range of values within which the true population parameter is likely to fall, with a certain level of confidence.\n",
        "\n",
        "        The confidence interval?\n",
        "         1. The margin of error essentially determines the width of the\n",
        "            confidence interval.\n",
        "         2. A smaller margin of error leads to a narrower confidence interval,\n",
        "            and vice versa.\n",
        "         3. For a given level of confidence, a larger sample size generally\n",
        "            leads to a smaller margin of error and, therefore, a narrower confidence interval.\n",
        "         4. Conversely, a higher level of confidence (e.g., 99% instead of 95%)\n",
        "            typically results in a wider confidence interval (and a larger margin of error)."
      ],
      "metadata": {
        "id": "TjOtAgb929LG"
      }
    },
    {
      "cell_type": "markdown",
      "source": [
        "Q16 How is Bayes' Theorem used in statistics, and what is its significance?\n",
        "\n",
        "   ANS:-Bayes' Theorem, a cornerstone of probability and statistics, allows for\n",
        "        updating beliefs (probabilities) based on new evidence, moving from prior probabilities to posterior probabilities.\n",
        "\n",
        "        How is it used in Statistics?\n",
        "        1. Bayesian Inference:\n",
        "            A major application of Bayes' Theorem is in Bayesian inference, a statistical approach that uses prior knowledge and observed data to make inferences about unknown parameters or hypotheses.\n",
        "        2. Medical Testing:\n",
        "            It's used to assess the reliability of medical tests, considering the test's accuracy and the prevalence of the disease in the population.\n",
        "        3. Machine Learning:\n",
        "            Bayes' Theorem is fundamental to many machine learning algorithms, particularly in classification tasks, where it helps model uncertainty and predict outcomes.\n",
        "        4. A/B Testing:\n",
        "            It can be used to assess the effectiveness of different interventions or strategies by quantifying the probability of a certain outcome occurring due to the intervention being tested.\n",
        "        5. Decision Making:\n",
        "            Bayes' Theorem helps in making informed decisions by allowing us to incorporate new information and update our understanding of the likelihood of different outcomes.\n",
        "\n",
        "       Significance of Bayes' Theorem\n",
        "       1. Uncertainty Management:\n",
        "           Bayes' Theorem provides a framework for dealing with uncertainty by allowing us to quantify our beliefs and update them as new evidence becomes available.\n",
        "       2. Rational Decision-Making:\n",
        "           By providing a way to incorporate new information and revise our beliefs, Bayes' Theorem aids in making more informed and rational decisions.\n",
        "       3. Foundation for Bayesian Statistics:\n",
        "           Bayesian statistics is a powerful statistical approach that relies heavily on Bayes' Theorem for updating probabilities and making inferences.\n",
        "       4. Versatility:\n",
        "           Bayes' Theorem has applications across various fields, including medicine, engineering, finance, and machine learning."
      ],
      "metadata": {
        "id": "WENMh6Tq3sNZ"
      }
    },
    {
      "cell_type": "markdown",
      "source": [
        "Q17. What is the Chi-square distribution, and when is it used?\n",
        "\n",
        "   ANS:- The chi-square distribution is a continuous probability distribution\n",
        "         used in hypothesis testing, particularly for comparing observed data to expected frequencies, and for testing independence between categorical variables.\n",
        "\n",
        "         When is it used?\n",
        "           1. Chi-Square Goodness of Fit Test:\n",
        "              This test determines how well an observed distribution of data fits a hypothesized distribution.\n",
        "           2. Chi-Square Test of Independence:\n",
        "              This test determines if two categorical variables are related or independent of each other.\n",
        "           3. Confidence Intervals for Population Variance:\n",
        "              It can be used to calculate confidence intervals for estimating the population variance (or standard deviation) of a normal distribution from a sample standard deviation.\n",
        "           4. Other Statistical Tests:\n",
        "              Many other statistical tests, such as Friedman's analysis of variance by ranks, also use the chi-square distribution."
      ],
      "metadata": {
        "id": "wh_hLVrq4uj_"
      }
    },
    {
      "cell_type": "markdown",
      "source": [
        "Q18. What is the Chi-square goodness of fit test, and how is it applied?\n",
        "\n",
        "   ANS:- The chi-square goodness-of-fit test is a statistical test used to\n",
        "          determine if a sample data distribution fits a hypothesized distribution. It compares observed frequencies to expected frequencies, and a high chi-square value indicates a poor fit.\n",
        "\n",
        "      How it's applied:\n",
        "          1. State the Hypothesis:\n",
        "             Null Hypothesis (H0): The sample data comes from the hypothesized distribution.\n",
        "             Alternative Hypothesis (H1): The sample data does not come from the hypothesized distribution.\n",
        "          2. Collect Data:\n",
        "             Gather your sample data and determine the observed frequencies for each category.\n",
        "          3. Calculate Expected Frequencies:\n",
        "             Determine the expected frequencies for each category based on the hypothesized distribution.\n",
        "          4. Calculate the Chi-Square Statistic:\n",
        "             The chi-square statistic (χ²) is calculated using the formula: χ² = Σ [(Observed - Expected)² / Expected].\n",
        "           Where:\n",
        "             1. Σ represents the sum over all categories.\n",
        "             2. Observed is the observed frequency for a category.\n",
        "             3. Expected is the expected frequency for a category.\n",
        "         5. Determine Degrees of Freedom:\n",
        "             For a goodness-of-fit test, the degrees of freedom (df) are calculated as: df = (number of categories - 1).\n",
        "         6. Find the Critical Value or P-value:\n",
        "            Critical Value: Use a chi-square distribution table to find the critical value based on the chosen significance level (α) and degrees of freedom.\n",
        "            P-value: Use statistical software to calculate the p-value, which represents the probability of obtaining a chi-square statistic as extreme as, or more extreme than, the one calculated, assuming the null hypothesis is true.\n",
        "        7. Make a Decision:\n",
        "           If the chi-square statistic is greater than the critical value (or if the p-value is less than α), reject the null hypothesis. This suggests that the sample data does not fit the hypothesized distribution.\n",
        "          Otherwise, fail to reject the null hypothesis. This suggests that the sample data is consistent with the hypothesized distribution."
      ],
      "metadata": {
        "id": "bGWcba7n5Wag"
      }
    },
    {
      "cell_type": "markdown",
      "source": [
        "Q19. What is the F-distribution, and when is it used in hypothesis testing?\n",
        "\n",
        "     ANS:-The F-distribution is a continuous probability distribution that\n",
        "           arises when the ratio of two independent chi-squared distributed variables (each divided by its degrees of freedom) is taken.\n",
        "\n",
        "           When is it used in Hypothesis Testing?\n",
        "             1. Comparing Variances:\n",
        "                The F-distribution is primarily used to test if the variances of two populations are equal.\n",
        "             2. F-tests:\n",
        "                The F-test is a statistical method that uses the F-statistic (calculated from the ratio of variances) to analyze data variance in two samples or populations.\n",
        "             3. ANOVA:\n",
        "                The F-distribution is used in ANOVA (Analysis of Variance) to determine if there are significant differences between the means of two or more groups.\n",
        "             4. Regression Analysis:\n",
        "                It's also used in regression analysis to assess the overall significance of a regression model by comparing the model's explained variance to the unexplained variance.\n",
        "             5. Null Hypothesis:\n",
        "                In F-tests, the null hypothesis typically states that there is no difference between the population variances or means.\n",
        "             6. Procedure:\n",
        "                Formulate a null hypothesis (e.g., equal variances or no effect).\n",
        "                Calculate the test statistic (F-statistic).\n",
        "                Determine the critical value from the F-distribution based on the degrees of freedom and significance level.\n",
        "                Compare the calculated F-statistic to the critical value to decide whether to reject the null hypothesis.\n",
        "             7. Assumptions:\n",
        "                The samples must be independent.\n",
        "                The populations from which the samples are drawn should be normally distributed.\n",
        "                The samples should be randomly selected from their respective populations.\n",
        "\n"
      ],
      "metadata": {
        "id": "WhbrIhFg6fom"
      }
    },
    {
      "cell_type": "markdown",
      "source": [
        "Q20. What is an ANOVA test, and what are its assumptions?\n",
        "\n",
        "     ANS:-An ANOVA test is a statistical method used to compare the means of  \n",
        "          two or more groups.It determines if there is a statistically significant difference between the means of these groups.ANOVA is especially useful when you have multiple independent variables or treatment conditions.It helps to analyze the variance between and within groups, enabling you to find out whether these treatments have a real impact.\n",
        "\n",
        "           Assumptions of ANOVA:\n",
        "\n",
        "            1. Normality:\n",
        "               The data within each group should be approximately normally distributed.\n",
        "               You can check this assumption using histograms or normality tests (e.g., Shapiro-Wilk test).\n",
        "\n",
        "            2. Homogeneity of Variance (Homoscedasticity):\n",
        "               The variances within each group should be approximately equal.\n",
        "               This means that the spread of the data within each group should be similar.\n",
        "               If the variances are very different, the results of the ANOVA may not be reliable.\n",
        "\n",
        "            3. Independence:\n",
        "               The observations within each group must be independent of each other.\n",
        "               This means that the values in one group should not be influenced by or related to the values in other groups.\n",
        "  \n",
        "           4. Interval or Ratio Data:\n",
        "              The dependent variable should be measured on an interval or ratio scale.\n",
        "              This means that the data should have meaningful numerical values that represent the magnitude of the variable.\n",
        "\n",
        "\n"
      ],
      "metadata": {
        "id": "mvp-ws287kxE"
      }
    },
    {
      "cell_type": "markdown",
      "source": [
        "Q21. What are the different types of ANOVA tests?\n",
        "\n",
        "     ANS:- 1.One-Way ANOVA:\n",
        "              Used when you have one independent variable (factor) with three or more levels or groups, and you want to compare the means of those groups.\n",
        "           Example: Comparing the effectiveness of three different types of fertilizer on crop yield.\n",
        "\n",
        "           2. Two-Way ANOVA:\n",
        "               Used when you have two or more independent variables (factors), and you want to see how they interact to affect a dependent variable.\n",
        "           Example: Studying the effect of both gender and age group on test scores.\n",
        "\n",
        "           3. Repeated Measures ANOVA: Used when the same subjects are measured\n",
        "              multiple times under different conditions or at different time points.\n",
        "           4. MANOVA (Multivariate Analysis of Variance): Used when there   are  multiple dependent variables.\n",
        "           5. Factorial ANOVA: A broader term that encompasses two-way and\n",
        "              higher-order ANOVAs, where \"factorial\" refers to the number of independent variables being studied.\n",
        "           6. N-way ANOVA: Used when there are more than two independent\n",
        "              variables."
      ],
      "metadata": {
        "id": "11kHaKrj9i6s"
      }
    },
    {
      "cell_type": "markdown",
      "source": [
        "Q22. What is the F-test, and how does it relate to hypothesis testing?\n",
        "\n",
        "     ANS:-he F-test is a statistical test that compares variances between two  \n",
        "          or more groups, used in hypothesis testing to determine if there's a significant difference between their means or model fits, by examining the ratio of variances (F-statistic) and comparing it to the F-distribution.\n",
        "\n",
        "          How it relates to hypothesis testing:\n",
        "            1. Null Hypothesis:\n",
        "               In the context of hypothesis testing, the null hypothesis typically states that there is no significant difference between the means (in ANOVA) or that the models being compared have equal fit.\n",
        "            2. Alternative Hypothesis:\n",
        "               The alternative hypothesis suggests that there is a significant difference between the means or that one model fits the data better than the other.\n",
        "            3. F-statistic and p-value:\n",
        "               The F-statistic calculated from the data is used to determine the p-value, which represents the probability of obtaining the observed results (or more extreme results) if the null hypothesis is true.\n",
        "            4. Decision:\n",
        "               If the p-value is less than the significance level (often 0.05), the null hypothesis is rejected, meaning there is evidence to support the alternative hypothesis.\n",
        "            Example:\n",
        "              In ANOVA, if the p-value is less than 0.05, it suggests that there is a significant difference between at least two of the group means, and the null hypothesis (no difference) is rejected."
      ],
      "metadata": {
        "id": "ZQZLAQIV-1iQ"
      }
    },
    {
      "cell_type": "markdown",
      "source": [
        "**Practical**"
      ],
      "metadata": {
        "id": "1XfOAO8U_gww"
      }
    },
    {
      "cell_type": "markdown",
      "source": [
        "Q1.  Write a Python program to perform a Z-test for comparing a sample mean to a known population mean and interpret the results?"
      ],
      "metadata": {
        "id": "AfPX_rjt_mfv"
      }
    },
    {
      "cell_type": "code",
      "source": [
        "\n",
        "import numpy as np\n",
        "from scipy.stats import norm\n",
        "\n",
        "def z_test(sample_mean, population_mean, population_std, sample_size):\n",
        "\n",
        "\n",
        "  z_statistic = (sample_mean - population_mean) / (population_std / np.sqrt(sample_size))\n",
        "  p_value = norm.sf(abs(z_statistic)) * 2  # Two-tailed test\n",
        "\n",
        "  return z_statistic, p_value\n",
        "\n",
        "# Example usage\n",
        "sample_mean = 75\n",
        "population_mean = 70\n",
        "population_std = 10\n",
        "sample_size = 50\n",
        "\n",
        "z_statistic, p_value = z_test(sample_mean, population_mean, population_std, sample_size)\n",
        "\n",
        "print(f\"Z-statistic: {z_statistic}\")\n",
        "print(f\"P-value: {p_value}\")\n",
        "\n",
        "# Interpretation\n",
        "alpha = 0.05  # Significance level\n",
        "\n",
        "if p_value < alpha:\n",
        "  print(\"The p-value is less than the significance level, so we reject the null hypothesis.\")\n",
        "  print(\"There is evidence to suggest that the sample mean is significantly different from the population mean.\")\n",
        "else:\n",
        "  print(\"The p-value is greater than or equal to the significance level, so we fail to reject the null hypothesis.\")\n",
        "  print(\"There is no evidence to suggest that the sample mean is significantly different from the population mean.\")"
      ],
      "metadata": {
        "colab": {
          "base_uri": "https://localhost:8080/"
        },
        "id": "5sNnnAiAL_KG",
        "outputId": "4a47068b-387d-4ad7-b8b8-80b2e82d9bb4"
      },
      "execution_count": null,
      "outputs": [
        {
          "output_type": "stream",
          "name": "stdout",
          "text": [
            "Z-statistic: 3.5355339059327378\n",
            "P-value: 0.0004069520174449578\n",
            "The p-value is less than the significance level, so we reject the null hypothesis.\n",
            "There is evidence to suggest that the sample mean is significantly different from the population mean.\n"
          ]
        }
      ]
    },
    {
      "cell_type": "markdown",
      "source": [
        "Q2.Simulate random data to perform hypothesis testing and calculate the corresponding P-value using Python."
      ],
      "metadata": {
        "id": "AQMHEq7hMHdJ"
      }
    },
    {
      "cell_type": "code",
      "source": [
        "import numpy as np\n",
        "from scipy.stats import ttest_ind\n",
        "\n",
        "# Simulate two independent samples from normal distributions\n",
        "sample1 = np.random.normal(loc=5, scale=2, size=50)  # Mean 5, Standard deviation 2, Sample size 50\n",
        "sample2 = np.random.normal(loc=7, scale=2, size=50)  # Mean 7, Standard deviation 2, Sample size 50\n",
        "\n",
        "# Perform an independent samples t-test\n",
        "t_statistic, p_value = ttest_ind(sample1, sample2)\n",
        "\n",
        "print(f\"T-statistic: {t_statistic}\")\n",
        "print(f\"P-value: {p_value}\")\n",
        "\n",
        "# Interpretation\n",
        "alpha = 0.05  # Significance level\n",
        "\n",
        "if p_value < alpha:\n",
        "  print(\"The p-value is less than the significance level, so we reject the null hypothesis.\")\n",
        "  print(\"There is evidence to suggest that the means of the two populations are significantly different.\")\n",
        "else:\n",
        "  print(\"The p-value is greater than or equal to the significance level, so we fail to reject the null hypothesis.\")\n",
        "  print(\"There is no evidence to suggest that the means of the two populations are significantly different.\")\n"
      ],
      "metadata": {
        "colab": {
          "base_uri": "https://localhost:8080/"
        },
        "id": "LruiPYIjMxr5",
        "outputId": "d6149211-7903-4cff-df38-b658858abe98"
      },
      "execution_count": null,
      "outputs": [
        {
          "output_type": "stream",
          "name": "stdout",
          "text": [
            "T-statistic: -6.215621845516701\n",
            "P-value: 1.2497230870716926e-08\n",
            "The p-value is less than the significance level, so we reject the null hypothesis.\n",
            "There is evidence to suggest that the means of the two populations are significantly different.\n"
          ]
        }
      ]
    },
    {
      "cell_type": "markdown",
      "source": [
        "Q3.Implement a one-sample Z-test using Python to compare the sample mean with the population mean."
      ],
      "metadata": {
        "id": "px7t-E2_M4vk"
      }
    },
    {
      "cell_type": "code",
      "source": [
        "import numpy as np\n",
        "from scipy.stats import norm\n",
        "\n",
        "def one_sample_z_test(sample_data, population_mean, population_std):\n",
        "\n",
        "\n",
        "  sample_mean = np.mean(sample_data)\n",
        "  sample_size = len(sample_data)\n",
        "  z_statistic = (sample_mean - population_mean) / (population_std / np.sqrt(sample_size))\n",
        "  p_value = norm.sf(abs(z_statistic)) * 2  # Two-tailed test\n",
        "\n",
        "  return z_statistic, p_value\n",
        "\n",
        "# Example usage:\n",
        "sample_data = [72, 75, 78, 70, 74, 76, 73, 71, 79, 77]\n",
        "population_mean = 70\n",
        "population_std = 5\n",
        "\n",
        "z_statistic, p_value = one_sample_z_test(sample_data, population_mean, population_std)\n",
        "\n",
        "print(f\"Z-statistic: {z_statistic}\")\n",
        "print(f\"P-value: {p_value}\")\n",
        "\n",
        "# Interpretation:\n",
        "alpha = 0.05  # Significance level\n",
        "\n",
        "if p_value < alpha:\n",
        "  print(\"The p-value is less than the significance level, so we reject the null hypothesis.\")\n",
        "  print(\"There is evidence to suggest that the sample mean is significantly different from the population mean.\")\n",
        "else:\n",
        "  print(\"The p-value is greater than or equal to the significance level, so we fail to reject the null hypothesis.\")\n",
        "  print(\"There is no evidence to suggest that the sample mean is significantly different from the population mean.\")\n"
      ],
      "metadata": {
        "colab": {
          "base_uri": "https://localhost:8080/"
        },
        "id": "8gylOkXzNQ3R",
        "outputId": "e447b043-ec25-49af-99f5-3110d585a42b"
      },
      "execution_count": null,
      "outputs": [
        {
          "output_type": "stream",
          "name": "stdout",
          "text": [
            "Z-statistic: 2.8460498941515415\n",
            "P-value: 0.0044265258579198235\n",
            "The p-value is less than the significance level, so we reject the null hypothesis.\n",
            "There is evidence to suggest that the sample mean is significantly different from the population mean.\n"
          ]
        }
      ]
    },
    {
      "cell_type": "markdown",
      "source": [
        "Q4. Perform a two-tailed Z-test using Python and visualize the decision region on a plot."
      ],
      "metadata": {
        "id": "ngX5uuhmNSLT"
      }
    },
    {
      "cell_type": "code",
      "source": [
        "import numpy as np\n",
        "from scipy.stats import norm\n",
        "import matplotlib.pyplot as plt\n",
        "\n",
        "def two_tailed_z_test(sample_mean, population_mean, population_std, sample_size, alpha):\n",
        "\n",
        "\n",
        "  z_statistic = (sample_mean - population_mean) / (population_std / np.sqrt(sample_size))\n",
        "  p_value = norm.sf(abs(z_statistic)) * 2  # Two-tailed test\n",
        "\n",
        "  # Visualize the decision region\n",
        "  x = np.linspace(-4, 4, 100)\n",
        "  y = norm.pdf(x)\n",
        "  plt.plot(x, y)\n",
        "  plt.fill_between(x, y, where=(x <= -norm.ppf(1 - alpha / 2)) | (x >= norm.ppf(1 - alpha / 2)), color='red', alpha=0.3)\n",
        "  plt.axvline(x=z_statistic, color='blue', linestyle='--', label='Z-statistic')\n",
        "  plt.xlabel('Z-score')\n",
        "  plt.ylabel('Probability Density')\n",
        "  plt.title('Two-Tailed Z-Test')\n",
        "  plt.legend()\n",
        "  plt.show()\n",
        "\n",
        "  return z_statistic, p_value\n",
        "\n",
        "\n",
        "# Example usage\n",
        "sample_mean = 75\n",
        "population_mean = 70\n",
        "population_std = 10\n",
        "sample_size = 50\n",
        "alpha = 0.05\n",
        "\n",
        "z_statistic, p_value = two_tailed_z_test(sample_mean, population_mean, population_std, sample_size, alpha)\n",
        "\n",
        "print(f\"Z-statistic: {z_statistic}\")\n",
        "print(f\"P-value: {p_value}\")\n",
        "\n",
        "# Interpretation\n",
        "if p_value < alpha:\n",
        "  print(\"The p-value is less than the significance level, so we reject the null hypothesis.\")\n",
        "  print(\"There is evidence to suggest that the sample mean is significantly different from the population mean.\")\n",
        "else:\n",
        "  print(\"The p-value is greater than or equal to the significance level, so we fail to reject the null hypothesis.\")\n",
        "  print(\"There is no evidence to suggest that the sample mean is significantly different from the population mean.\")\n"
      ],
      "metadata": {
        "colab": {
          "base_uri": "https://localhost:8080/",
          "height": 541
        },
        "id": "0LJabLO9NkrH",
        "outputId": "b6761024-1869-4906-8751-4c95aeaaaa95"
      },
      "execution_count": null,
      "outputs": [
        {
          "output_type": "display_data",
          "data": {
            "text/plain": [
              "<Figure size 640x480 with 1 Axes>"
            ],
            "image/png": "[encoded data removed]"
          },
          "metadata": {}
        },
        {
          "output_type": "stream",
          "name": "stdout",
          "text": [
            "Z-statistic: 3.5355339059327378\n",
            "P-value: 0.0004069520174449578\n",
            "The p-value is less than the significance level, so we reject the null hypothesis.\n",
            "There is evidence to suggest that the sample mean is significantly different from the population mean.\n"
          ]
        }
      ]
    },
    {
      "cell_type": "markdown",
      "source": [
        "Q5.Create a Python function that calculates and visualizes Type 1 and Type 2 errors during hypothesis testing."
      ],
      "metadata": {
        "id": "FsfOz6spNvwz"
      }
    },
    {
      "cell_type": "code",
      "source": [
        "import numpy as np\n",
        "from scipy.stats import norm\n",
        "import matplotlib.pyplot as plt\n",
        "\n",
        "def calculate_and_visualize_errors(true_mean, sample_size, population_std, alpha, effect_size):\n",
        "\n",
        "  # Calculate the critical Z-value for a two-tailed test\n",
        "  critical_z = norm.ppf(1 - alpha / 2)\n",
        "\n",
        "  # Calculate the power of the test\n",
        "  z_alternative = (effect_size) / (population_std / np.sqrt(sample_size))\n",
        "  power = 1 - norm.cdf(critical_z - z_alternative)\n",
        "\n",
        "  # Calculate Type 1 error rate (alpha)\n",
        "  type_1_error_rate = alpha\n",
        "\n",
        "  # Calculate Type 2 error rate (beta)\n",
        "  type_2_error_rate = 1 - power\n",
        "\n",
        "  # Visualize the distributions and critical regions\n",
        "  x = np.linspace(true_mean - 4 * (population_std / np.sqrt(sample_size)),\n",
        "                  true_mean + 4 * (population_std / np.sqrt(sample_size)), 100)\n",
        "  y_null = norm.pdf(x, loc=true_mean, scale=population_std / np.sqrt(sample_size))\n",
        "  y_alternative = norm.pdf(x, loc=true_mean + effect_size, scale=population_std / np.sqrt(sample_size))\n",
        "  plt.plot(x, y_null, label=\"Null Hypothesis Distribution\")\n",
        "  plt.plot(x, y_alternative, label=\"Alternative Hypothesis Distribution\")\n",
        "  plt.axvline(true_mean + norm.ppf(1 - alpha / 2) * (population_std / np.sqrt(sample_size)),\n",
        "              color='red', linestyle='--', label=\"Critical Region\")\n",
        "  plt.axvline(true_mean - norm.ppf(1 - alpha / 2) * (population_std / np.sqrt(sample_size)),\n",
        "              color='red', linestyle='--')\n",
        "  plt.fill_between(x, y_null, where=(x >= true_mean + norm.ppf(1 - alpha / 2) * (population_std / np.sqrt(sample_size))) |\n",
        "                                   (x <= true_mean - norm.ppf(1 - alpha / 2) * (population_std / np.sqrt(sample_size))),\n",
        "                  color='red', alpha=0.3)\n",
        "\n",
        "\n",
        "  plt.xlabel(\"Sample Mean\")\n",
        "  plt.ylabel(\"Probability Density\")\n",
        "  plt.title(\"Type 1 and Type 2 Errors\")\n",
        "  plt.legend()\n",
        "  plt.show()\n",
        "\n",
        "  print(f\"Type 1 Error Rate (alpha): {type_1_error_rate:.3f}\")\n",
        "  print(f\"Type 2 Error Rate (beta): {type_2_error_rate:.3f}\")\n",
        "  print(f\"Power of the Test: {power:.3f}\")\n",
        "\n",
        "# Example usage\n",
        "true_mean = 50\n",
        "sample_size = 30\n",
        "population_std = 10\n",
        "alpha = 0.05\n",
        "effect_size = 5  # Example effect size for the alternative hypothesis\n",
        "\n",
        "calculate_and_visualize_errors(true_mean, sample_size, population_std, alpha, effect_size)\n"
      ],
      "metadata": {
        "colab": {
          "base_uri": "https://localhost:8080/",
          "height": 524
        },
        "id": "fV7To0QZOE0V",
        "outputId": "cb7a3fb4-19a2-452f-dd1f-9bb7f64d3339"
      },
      "execution_count": null,
      "outputs": [
        {
          "output_type": "display_data",
          "data": {
            "text/plain": [
              "<Figure size 640x480 with 1 Axes>"
            ],
            "image/png": "[encoded data removed]"
          },
          "metadata": {}
        },
        {
          "output_type": "stream",
          "name": "stdout",
          "text": [
            "Type 1 Error Rate (alpha): 0.050\n",
            "Type 2 Error Rate (beta): 0.218\n",
            "Power of the Test: 0.782\n"
          ]
        }
      ]
    },
    {
      "cell_type": "markdown",
      "source": [
        "Q6. Write a Python program to perform an independent T-test and interpret the results."
      ],
      "metadata": {
        "id": "XvxhMTokOGIt"
      }
    },
    {
      "cell_type": "code",
      "source": [
        "import numpy as np\n",
        "from scipy.stats import ttest_ind\n",
        "\n",
        "def independent_t_test(data1, data2):\n",
        "\n",
        "\n",
        "  t_statistic, p_value = ttest_ind(data1, data2)\n",
        "\n",
        "  # Interpretation\n",
        "  alpha = 0.05  # Significance level\n",
        "\n",
        "  if p_value < alpha:\n",
        "    interpretation = (\n",
        "        \"The p-value is less than the significance level, so we reject the null hypothesis.\"\n",
        "        \"There is evidence to suggest that the means of the two populations are significantly different.\"\n",
        "    )\n",
        "  else:\n",
        "    interpretation = (\n",
        "        \"The p-value is greater than or equal to the significance level, so we fail to reject the null hypothesis.\"\n",
        "        \"There is no evidence to suggest that the means of the two populations are significantly different.\"\n",
        "    )\n",
        "\n",
        "  return t_statistic, p_value, interpretation\n",
        "\n",
        "\n",
        "# Example usage\n",
        "data1 = [15, 18, 21, 17, 19]\n",
        "data2 = [12, 14, 16, 13, 15]\n",
        "\n",
        "t_statistic, p_value, interpretation = independent_t_test(data1, data2)\n",
        "\n",
        "print(f\"T-statistic: {t_statistic}\")\n",
        "print(f\"P-value: {p_value}\")\n",
        "interpretation\n"
      ],
      "metadata": {
        "colab": {
          "base_uri": "https://localhost:8080/",
          "height": 87
        },
        "id": "1HnpUaM5OanB",
        "outputId": "4580aa04-75ae-4cfd-8940-70934c336765"
      },
      "execution_count": null,
      "outputs": [
        {
          "output_type": "stream",
          "name": "stdout",
          "text": [
            "T-statistic: 3.2659863237109046\n",
            "P-value: 0.011424554377833868\n"
          ]
        },
        {
          "output_type": "execute_result",
          "data": {
            "text/plain": [
              "'The p-value is less than the significance level, so we reject the null hypothesis.There is evidence to suggest that the means of the two populations are significantly different.'"
            ],
            "application/vnd.google.colaboratory.intrinsic+json": {
              "type": "string"
            }
          },
          "metadata": {},
          "execution_count": 6
        }
      ]
    },
    {
      "cell_type": "markdown",
      "source": [
        "Q7.Perform a paired sample T-test using Python and visualize the comparison results."
      ],
      "metadata": {
        "id": "drHckI2GObnk"
      }
    },
    {
      "cell_type": "code",
      "source": [
        "from scipy.stats import ttest_rel\n",
        "import matplotlib.pyplot as plt\n",
        "\n",
        "def paired_t_test_and_visualization(data1, data2):\n",
        "\n",
        "\n",
        "  # Perform the paired t-test\n",
        "  t_statistic, p_value = ttest_rel(data1, data2)\n",
        "\n",
        "  # Create a scatter plot to visualize the data\n",
        "  plt.scatter(data1, data2)\n",
        "  plt.xlabel(\"Data 1\")\n",
        "  plt.ylabel(\"Data 2\")\n",
        "  plt.title(\"Paired Sample T-test\")\n",
        "\n",
        "  # Add a diagonal line to represent no difference\n",
        "  plt.plot([min(data1), max(data1)], [min(data1), max(data1)], color='red', linestyle='--')\n",
        "\n",
        "  plt.show()\n",
        "\n",
        "  print(f\"T-statistic: {t_statistic}\")\n",
        "  print(f\"P-value: {p_value}\")\n",
        "\n",
        "  # Interpretation\n",
        "  alpha = 0.05  # Significance level\n",
        "\n",
        "  if p_value < alpha:\n",
        "    print(\n",
        "        \"The p-value is less than the significance level, so we reject the null hypothesis.\"\n",
        "        \"There is evidence to suggest that the means of the two paired samples are significantly different.\"\n",
        "    )\n",
        "  else:\n",
        "    print(\n",
        "        \"The p-value is greater than or equal to the significance level, so we fail to reject the null hypothesis.\"\n",
        "        \"There is no evidence to suggest that the means of the two paired samples are significantly different.\"\n",
        "    )\n",
        "\n",
        "\n",
        "# Example usage\n",
        "data1 = [15, 18, 21, 17, 19]\n",
        "data2 = [12, 14, 16, 13, 15]\n",
        "\n",
        "paired_t_test_and_visualization(data1, data2)\n"
      ],
      "metadata": {
        "colab": {
          "base_uri": "https://localhost:8080/",
          "height": 544
        },
        "id": "8tt-Z5_gOoxZ",
        "outputId": "70f022c3-549a-4da1-d6a8-6d42fd1a8601"
      },
      "execution_count": null,
      "outputs": [
        {
          "output_type": "display_data",
          "data": {
            "text/plain": [
              "<Figure size 640x480 with 1 Axes>"
            ],
            "image/png": "[encoded data removed]"
          },
          "metadata": {}
        },
        {
          "output_type": "stream",
          "name": "stdout",
          "text": [
            "T-statistic: 12.649110640673516\n",
            "P-value: 0.0002249204644397887\n",
            "The p-value is less than the significance level, so we reject the null hypothesis.There is evidence to suggest that the means of the two paired samples are significantly different.\n"
          ]
        }
      ]
    },
    {
      "cell_type": "markdown",
      "source": [
        "Q8. Simulate data and perform both Z-test and T-test, then compare the results using Python."
      ],
      "metadata": {
        "id": "_j8mt9WiOrTy"
      }
    },
    {
      "cell_type": "code",
      "source": [
        "import numpy as np\n",
        "from scipy.stats import norm\n",
        "from scipy.stats import ttest_ind\n",
        "from scipy.stats import ttest_1samp\n",
        "\n",
        "# Simulate data\n",
        "np.random.seed(42)  # For reproducibility\n",
        "sample_size = 30\n",
        "population_mean = 50\n",
        "population_std = 10\n",
        "sample = np.random.normal(loc=population_mean, scale=population_std, size=sample_size)\n",
        "\n",
        "# Perform Z-test (assuming population standard deviation is known)\n",
        "def z_test(sample, population_mean, population_std):\n",
        "  sample_mean = np.mean(sample)\n",
        "  z_statistic = (sample_mean - population_mean) / (population_std / np.sqrt(len(sample)))\n",
        "  p_value = norm.sf(abs(z_statistic)) * 2  # Two-tailed test\n",
        "  return z_statistic, p_value\n",
        "\n",
        "z_statistic, z_p_value = z_test(sample, population_mean, population_std)\n",
        "print(f\"Z-test: Z-statistic = {z_statistic:.2f}, P-value = {z_p_value:.3f}\")\n",
        "\n",
        "# Perform T-test (population standard deviation is unknown)\n",
        "t_statistic, t_p_value = ttest_1samp(sample, population_mean)\n",
        "print(f\"T-test: T-statistic = {t_statistic:.2f}, P-value = {t_p_value:.3f}\")\n",
        "\n",
        "# Compare results\n",
        "print(\"\\nComparison:\")\n",
        "if z_p_value < 0.05 and t_p_value < 0.05:\n",
        "  print(\"Both Z-test and T-test reject the null hypothesis.\")\n",
        "elif z_p_value >= 0.05 and t_p_value >= 0.05:\n",
        "  print(\"Both Z-test and T-test fail to reject the null hypothesis.\")\n",
        "else:\n",
        "  print(\"Z-test and T-test produce conflicting results.\")\n",
        "\n",
        "# Note: When the sample size is large, the Z-test and T-test will produce similar results.\n",
        "# The T-test is more appropriate when the population standard deviation is unknown.\n"
      ],
      "metadata": {
        "colab": {
          "base_uri": "https://localhost:8080/"
        },
        "id": "Ow09AaJVO381",
        "outputId": "aed75f75-b256-4906-fd65-0a1565e2b3fa"
      },
      "execution_count": null,
      "outputs": [
        {
          "output_type": "stream",
          "name": "stdout",
          "text": [
            "Z-test: Z-statistic = -1.03, P-value = 0.303\n",
            "T-test: T-statistic = -1.15, P-value = 0.262\n",
            "\n",
            "Comparison:\n",
            "Both Z-test and T-test fail to reject the null hypothesis.\n"
          ]
        }
      ]
    },
    {
      "cell_type": "markdown",
      "source": [
        "Q9. Write a Python function to calculate the confidence interval for a sample mean and explain its significance."
      ],
      "metadata": {
        "id": "TCxkpEoYO6bs"
      }
    },
    {
      "cell_type": "code",
      "source": [
        "import numpy as np\n",
        "from scipy.stats import t\n",
        "\n",
        "def confidence_interval(data, confidence_level=0.95):\n",
        "\n",
        "  n = len(data)\n",
        "  sample_mean = np.mean(data)\n",
        "  sample_std = np.std(data, ddof=1)  # Use ddof=1 for sample standard deviation\n",
        "  standard_error = sample_std / np.sqrt(n)\n",
        "  t_critical = t.ppf((1 + confidence_level) / 2, df=n - 1)  # T-distribution critical value\n",
        "\n",
        "  lower_bound = sample_mean - t_critical * standard_error\n",
        "  upper_bound = sample_mean + t_critical * standard_error\n",
        "\n",
        "  return lower_bound, upper_bound\n",
        "\n",
        "\n",
        "# Example usage\n",
        "data = [10, 12, 15, 18, 20]\n",
        "confidence_level = 0.95\n",
        "\n",
        "lower, upper = confidence_interval(data, confidence_level)\n",
        "print(f\"The {confidence_level*100}% confidence interval for the sample mean is: ({lower:.2f}, {upper:.2f})\")"
      ],
      "metadata": {
        "colab": {
          "base_uri": "https://localhost:8080/"
        },
        "id": "bxaaJ783PLJO",
        "outputId": "972c8b7b-a518-4287-9613-35c0bc142af0"
      },
      "execution_count": null,
      "outputs": [
        {
          "output_type": "stream",
          "name": "stdout",
          "text": [
            "The 95.0% confidence interval for the sample mean is: (9.88, 20.12)\n"
          ]
        }
      ]
    },
    {
      "cell_type": "markdown",
      "source": [
        "Q10. Write a Python program to calculate the margin of error for a given confidence level using sample data."
      ],
      "metadata": {
        "id": "kyMxQZJEPOcn"
      }
    },
    {
      "cell_type": "code",
      "source": [
        "def margin_of_error(data, confidence_level=0.95):\n",
        "\n",
        "  n = len(data)\n",
        "  sample_std = np.std(data, ddof=1)  # Use ddof=1 for sample standard deviation\n",
        "  standard_error = sample_std / np.sqrt(n)\n",
        "  z_critical = norm.ppf((1 + confidence_level) / 2)  # Z-score for the given confidence level\n",
        "\n",
        "  margin = z_critical * standard_error\n",
        "\n",
        "  return margin\n",
        "\n",
        "# Example usage\n",
        "data = [10, 12, 15, 18, 20]\n",
        "confidence_level = 0.95\n",
        "\n",
        "margin = margin_of_error(data, confidence_level)\n",
        "print(f\"The margin of error for a {confidence_level * 100}% confidence interval is: {margin:.2f}\")\n"
      ],
      "metadata": {
        "colab": {
          "base_uri": "https://localhost:8080/"
        },
        "id": "6E4MXaqdPcGu",
        "outputId": "c21a1879-1ada-4e32-9d81-b2c477eb45dd"
      },
      "execution_count": null,
      "outputs": [
        {
          "output_type": "stream",
          "name": "stdout",
          "text": [
            "The margin of error for a 95.0% confidence interval is: 3.61\n"
          ]
        }
      ]
    },
    {
      "cell_type": "markdown",
      "source": [
        "Q11.Implement a Bayesian inference method using Bayes' Theorem in Python and explain the process."
      ],
      "metadata": {
        "id": "tYDNs6UuPfh1"
      }
    },
    {
      "cell_type": "code",
      "source": [
        "def bayesian_inference(prior_probability, likelihood, evidence):\n",
        "\n",
        "  posterior_probability = (likelihood * prior_probability) / evidence\n",
        "  return posterior_probability\n",
        "\n",
        "\n",
        "# Example:\n",
        "# Let's say we want to estimate the probability that a patient has a disease (H)\n",
        "# given a positive test result (D).\n",
        "\n",
        "# Prior probability of having the disease (before the test):\n",
        "prior_probability = 0.01  # 1% of the population has the disease\n",
        "\n",
        "# Likelihood of a positive test given that the patient has the disease:\n",
        "likelihood = 0.95  # The test is 95% accurate for true positives\n",
        "\n",
        "# Probability of a positive test result (evidence):\n",
        "# This can be calculated using the law of total probability:\n",
        "# P(D) = P(D|H) * P(H) + P(D|¬H) * P(¬H)\n",
        "# where ¬H is the hypothesis that the patient does not have the disease.\n",
        "\n",
        "false_positive_rate = 0.05  # The test has a 5% false positive rate\n",
        "evidence = (likelihood * prior_probability) + (false_positive_rate * (1 - prior_probability))\n",
        "\n",
        "# Calculate the posterior probability:\n",
        "posterior_probability = bayesian_inference(prior_probability, likelihood, evidence)\n",
        "\n",
        "print(f\"The posterior probability of having the disease given a positive test is: {posterior_probability:.3f}\")\n"
      ],
      "metadata": {
        "colab": {
          "base_uri": "https://localhost:8080/"
        },
        "id": "fUz2l5stPuy0",
        "outputId": "e278be23-7b2e-449c-a1b2-d82386125dc4"
      },
      "execution_count": null,
      "outputs": [
        {
          "output_type": "stream",
          "name": "stdout",
          "text": [
            "The posterior probability of having the disease given a positive test is: 0.161\n"
          ]
        }
      ]
    },
    {
      "cell_type": "markdown",
      "source": [
        "Q12. Perform a Chi-square test for independence between two categorical variables in Python."
      ],
      "metadata": {
        "id": "XlrpA3RBP_uW"
      }
    },
    {
      "cell_type": "code",
      "source": [
        "import numpy as np\n",
        "from scipy.stats import chi2_contingency\n",
        "\n",
        "def chi_square_test_independence(contingency_table):\n",
        "\n",
        "\n",
        "  chi2, p_value, dof, expected = chi2_contingency(contingency_table)\n",
        "  return chi2, p_value, dof, expected\n",
        "\n",
        "# Example usage:\n",
        "# Create a contingency table (replace with your actual data)\n",
        "contingency_table = np.array([[20, 15], [10, 25]])\n",
        "\n",
        "# Perform the Chi-square test\n",
        "chi2, p_value, dof, expected = chi_square_test_independence(contingency_table)\n",
        "\n",
        "print(f\"Chi-square statistic: {chi2:.2f}\")\n",
        "print(f\"P-value: {p_value:.3f}\")\n",
        "print(f\"Degrees of freedom: {dof}\")\n",
        "print(\"Expected frequencies:\")\n",
        "print(expected)\n",
        "\n",
        "# Interpretation:\n",
        "alpha = 0.05  # Significance level\n",
        "if p_value < alpha:\n",
        "  print(\n",
        "      \"The p-value is less than the significance level, so we reject the null hypothesis.\"\n",
        "      \"There is evidence to suggest that the two categorical variables are dependent.\"\n",
        "  )\n",
        "else:\n",
        "  print(\n",
        "      \"The p-value is greater than or equal to the significance level, so we fail to reject the null hypothesis.\"\n",
        "      \"There is no evidence to suggest that the two categorical variables are dependent.\"\n",
        "  )\n"
      ],
      "metadata": {
        "colab": {
          "base_uri": "https://localhost:8080/"
        },
        "id": "XpIavUeIQZz0",
        "outputId": "a72adda2-976b-4994-d515-9150d5422465"
      },
      "execution_count": null,
      "outputs": [
        {
          "output_type": "stream",
          "name": "stdout",
          "text": [
            "Chi-square statistic: 4.72\n",
            "P-value: 0.030\n",
            "Degrees of freedom: 1\n",
            "Expected frequencies:\n",
            "[[15. 20.]\n",
            " [15. 20.]]\n",
            "The p-value is less than the significance level, so we reject the null hypothesis.There is evidence to suggest that the two categorical variables are dependent.\n"
          ]
        }
      ]
    },
    {
      "cell_type": "markdown",
      "source": [
        "Q13.Write a Python program to calculate the expected frequencies for a Chi-square test based on observed data."
      ],
      "metadata": {
        "id": "lCIFGCoIQcru"
      }
    },
    {
      "cell_type": "code",
      "source": [
        "import numpy as np\n",
        "from scipy.stats import chi2_contingency\n",
        "\n",
        "def calculate_expected_frequencies(observed_data):\n",
        "\n",
        "  chi2, p, dof, expected = chi2_contingency(observed_data)\n",
        "  return expected\n",
        "\n",
        "# Example usage:\n",
        "observed_data = np.array([[10, 20, 30], [5, 15, 25]])\n",
        "\n",
        "expected_frequencies = calculate_expected_frequencies(observed_data)\n",
        "print(\"Expected frequencies:\")\n",
        "expected_frequencies\n"
      ],
      "metadata": {
        "colab": {
          "base_uri": "https://localhost:8080/"
        },
        "id": "TCcCmDkrQox3",
        "outputId": "3a51111d-673a-4471-a111-6d2194b6e8d8"
      },
      "execution_count": null,
      "outputs": [
        {
          "output_type": "stream",
          "name": "stdout",
          "text": [
            "Expected frequencies:\n"
          ]
        },
        {
          "output_type": "execute_result",
          "data": {
            "text/plain": [
              "array([[ 8.57142857, 20.        , 31.42857143],\n",
              "       [ 6.42857143, 15.        , 23.57142857]])"
            ]
          },
          "metadata": {},
          "execution_count": 13
        }
      ]
    },
    {
      "cell_type": "markdown",
      "source": [
        "Q14. Perform a goodness-of-fit test using Python to compare the observed data to an expected distribution."
      ],
      "metadata": {
        "id": "W1Hc3q7oQser"
      }
    },
    {
      "cell_type": "code",
      "source": [
        "from scipy.stats import chisquare\n",
        "\n",
        "def goodness_of_fit_test(observed_data, expected_distribution):\n",
        "\n",
        "  chi2, p_value = chisquare(observed_data, expected_distribution)\n",
        "  return chi2, p_value\n",
        "\n",
        "\n",
        "# Example usage:\n",
        "observed_frequencies = [15, 25, 30, 20, 10]  # Observed frequencies\n",
        "expected_probabilities = [0.2, 0.3, 0.3, 0.15, 0.05]  # Expected probabilities\n",
        "total_observations = sum(observed_frequencies)\n",
        "expected_frequencies = [prob * total_observations for prob in expected_probabilities]\n",
        "\n",
        "chi2, p_value = goodness_of_fit_test(observed_frequencies, expected_frequencies)\n",
        "\n",
        "print(f\"Chi-square statistic: {chi2:.2f}\")\n",
        "print(f\"P-value: {p_value:.3f}\")\n",
        "\n",
        "# Interpretation:\n",
        "alpha = 0.05  # Significance level\n",
        "if p_value < alpha:\n",
        "  print(\n",
        "      \"The p-value is less than the significance level, so we reject the null hypothesis.\"\n",
        "      \"There is evidence to suggest that the observed data does not fit the expected distribution.\"\n",
        "  )\n",
        "else:\n",
        "  print(\n",
        "      \"The p-value is greater than or equal to the significance level, so we fail to reject the null hypothesis.\"\n",
        "      \"There is no evidence to suggest that the observed data does not fit the expected distribution.\"\n",
        "  )\n"
      ],
      "metadata": {
        "colab": {
          "base_uri": "https://localhost:8080/"
        },
        "id": "gHaYuXssQ51S",
        "outputId": "d02ab7d4-1b6e-494b-9eac-b1656ba54242"
      },
      "execution_count": null,
      "outputs": [
        {
          "output_type": "stream",
          "name": "stdout",
          "text": [
            "Chi-square statistic: 8.75\n",
            "P-value: 0.068\n",
            "The p-value is greater than or equal to the significance level, so we fail to reject the null hypothesis.There is no evidence to suggest that the observed data does not fit the expected distribution.\n"
          ]
        }
      ]
    },
    {
      "cell_type": "markdown",
      "source": [
        "Q15.Create a Python script to simulate and visualize the Chi-square distribution and discuss its characteristics."
      ],
      "metadata": {
        "id": "hU802BvwQ8TY"
      }
    },
    {
      "cell_type": "code",
      "source": [
        "import numpy as np\n",
        "import matplotlib.pyplot as plt\n",
        "from scipy.stats import chi2\n",
        "\n",
        "def simulate_and_visualize_chi_square(df, size=10000):\n",
        "\n",
        "\n",
        "  # Generate random samples from the Chi-square distribution\n",
        "  chi_square_samples = chi2.rvs(df=df, size=size)\n",
        "\n",
        "  # Create a histogram of the samples\n",
        "  plt.hist(chi_square_samples, bins=50, density=True, alpha=0.6, color='skyblue')\n",
        "  plt.xlabel('Chi-square Value')\n",
        "  plt.ylabel('Probability Density')\n",
        "  plt.title(f'Chi-square Distribution (df={df})')\n",
        "\n",
        "  # Plot the theoretical Chi-square probability density function (PDF)\n",
        "  x = np.linspace(chi2.ppf(0.01, df), chi2.ppf(0.99, df), 100)\n",
        "  plt.plot(x, chi2.pdf(x, df), 'r-', lw=2, label='Theoretical PDF')\n",
        "  plt.legend()\n",
        "  plt.show()\n",
        "\n",
        "  # Discuss characteristics\n",
        "  print(f\"Characteristics of the Chi-square distribution with df={df}:\")\n",
        "  print(\"- It is a continuous probability distribution.\")\n",
        "  print(\"- It is always non-negative.\")\n",
        "  print(\"- It is skewed to the right (positively skewed).\")\n",
        "  print(\"- As the degrees of freedom (df) increase, the distribution becomes more symmetrical and approaches a normal distribution.\")\n",
        "  print(\"- It is commonly used in hypothesis testing and statistical analysis, particularly for analyzing categorical data and determining if there is a significant association between variables.\")\n",
        "\n",
        "# Example usage:\n",
        "degrees_of_freedom = 5\n",
        "simulate_and_visualize_chi_square(degrees_of_freedom)\n"
      ],
      "metadata": {
        "colab": {
          "base_uri": "https://localhost:8080/",
          "height": 596
        },
        "id": "jUqYRtl7RJys",
        "outputId": "46bd68fa-a748-4863-8ad3-bede0f0c138b"
      },
      "execution_count": null,
      "outputs": [
        {
          "output_type": "display_data",
          "data": {
            "text/plain": [
              "<Figure size 640x480 with 1 Axes>"
            ],
            "image/png": "[encoded data removed]"
          },
          "metadata": {}
        },
        {
          "output_type": "stream",
          "name": "stdout",
          "text": [
            "Characteristics of the Chi-square distribution with df=5:\n",
            "- It is a continuous probability distribution.\n",
            "- It is always non-negative.\n",
            "- It is skewed to the right (positively skewed).\n",
            "- As the degrees of freedom (df) increase, the distribution becomes more symmetrical and approaches a normal distribution.\n",
            "- It is commonly used in hypothesis testing and statistical analysis, particularly for analyzing categorical data and determining if there is a significant association between variables.\n"
          ]
        }
      ]
    },
    {
      "cell_type": "markdown",
      "source": [
        "Q16.mplement an F-test using Python to compare the variances of two random samples."
      ],
      "metadata": {
        "id": "N6CPnagYRMfn"
      }
    },
    {
      "cell_type": "code",
      "source": [
        "from scipy.stats import f\n",
        "\n",
        "def f_test(data1, data2):\n",
        "\n",
        "\n",
        "  variance1 = np.var(data1, ddof=1)  # Sample variance of data1\n",
        "  variance2 = np.var(data2, ddof=1)  # Sample variance of data2\n",
        "  n1 = len(data1)\n",
        "  n2 = len(data2)\n",
        "\n",
        "  # Calculate F-statistic (larger variance / smaller variance)\n",
        "  if variance1 >= variance2:\n",
        "    f_statistic = variance1 / variance2\n",
        "    df1 = n1 - 1\n",
        "    df2 = n2 - 1\n",
        "  else:\n",
        "    f_statistic = variance2 / variance1\n",
        "    df1 = n2 - 1\n",
        "    df2 = n1 - 1\n",
        "\n",
        "  # Calculate p-value\n",
        "  p_value = f.sf(f_statistic, df1, df2)  # Survival function (1 - CDF)\n",
        "\n",
        "  return f_statistic, p_value\n",
        "\n",
        "\n",
        "# Example usage:\n",
        "data1 = [10, 12, 15, 18, 20]\n",
        "data2 = [8, 10, 11, 13, 16]\n",
        "\n",
        "f_statistic, p_value = f_test(data1, data2)\n",
        "\n",
        "print(f\"F-statistic: {f_statistic:.2f}\")\n",
        "print(f\"P-value: {p_value:.3f}\")\n",
        "\n",
        "# Interpretation:\n",
        "alpha = 0.05  # Significance level\n",
        "if p_value < alpha:\n",
        "  print(\n",
        "      \"The p-value is less than the significance level, so we reject the null hypothesis.\"\n",
        "      \"There is evidence to suggest that the variances of the two populations are significantly different.\"\n",
        "  )\n",
        "else:\n",
        "  print(\n",
        "      \"The p-value is greater than or equal to the significance level, so we fail to reject the null hypothesis.\"\n",
        "      \"There is no evidence to suggest that the variances of the two populations are significantly different.\"\n",
        "  )"
      ],
      "metadata": {
        "colab": {
          "base_uri": "https://localhost:8080/"
        },
        "id": "gJFqY3hWRhF9",
        "outputId": "bf8973c9-1330-407c-9a0e-99a4b23d697a"
      },
      "execution_count": null,
      "outputs": [
        {
          "output_type": "stream",
          "name": "stdout",
          "text": [
            "F-statistic: 1.83\n",
            "P-value: 0.287\n",
            "The p-value is greater than or equal to the significance level, so we fail to reject the null hypothesis.There is no evidence to suggest that the variances of the two populations are significantly different.\n"
          ]
        }
      ]
    },
    {
      "cell_type": "markdown",
      "source": [
        "Q17. Write a Python program to perform an ANOVA test to compare means between multiple groups and interpret the results."
      ],
      "metadata": {
        "id": "lbLq70ipRjU6"
      }
    },
    {
      "cell_type": "code",
      "source": [
        "import numpy as np\n",
        "from scipy.stats import f_oneway\n",
        "\n",
        "def perform_anova(group1, group2, group3):\n",
        "\n",
        "  f_statistic, p_value = f_oneway(group1, group2, group3)\n",
        "  return f_statistic, p_value\n",
        "\n",
        "\n",
        "# Example usage:\n",
        "group1 = [10, 12, 15, 18, 20]\n",
        "group2 = [8, 10, 11, 13, 16]\n",
        "group3 = [12, 14, 16, 18, 20]\n",
        "\n",
        "f_statistic, p_value = perform_anova(group1, group2, group3)\n",
        "\n",
        "print(f\"F-statistic: {f_statistic:.2f}\")\n",
        "print(f\"P-value: {p_value:.3f}\")\n",
        "\n",
        "# Interpretation:\n",
        "alpha = 0.05  # Significance level\n",
        "if p_value < alpha:\n",
        "  print(\n",
        "      \"The p-value is less than the significance level, so we reject the null hypothesis.\"\n",
        "      \"There is evidence to suggest that at least one group mean is significantly different from the others.\"\n",
        "  )\n",
        "else:\n",
        "  print(\n",
        "      \"The p-value is greater than or equal to the significance level, so we fail to reject the null hypothesis.\"\n",
        "      \"There is no evidence to suggest that any group mean is significantly different from the others.\"\n",
        "  )"
      ],
      "metadata": {
        "colab": {
          "base_uri": "https://localhost:8080/"
        },
        "id": "pty8BuxkSHFz",
        "outputId": "9a4eab1e-ed92-44d5-83e1-9b65e9f54a6d"
      },
      "execution_count": null,
      "outputs": [
        {
          "output_type": "stream",
          "name": "stdout",
          "text": [
            "F-statistic: 2.20\n",
            "P-value: 0.154\n",
            "The p-value is greater than or equal to the significance level, so we fail to reject the null hypothesis.There is no evidence to suggest that any group mean is significantly different from the others.\n"
          ]
        }
      ]
    },
    {
      "cell_type": "markdown",
      "source": [
        "Q18.erform a one-way ANOVA test using Python to compare the means of different groups and plot the results."
      ],
      "metadata": {
        "id": "1FrqiL8xSJxD"
      }
    },
    {
      "cell_type": "code",
      "source": [
        "def perform_anova_and_plot(data, group_labels):\n",
        "\n",
        "\n",
        "  # Perform one-way ANOVA\n",
        "  f_statistic, p_value = f_oneway(*data)\n",
        "\n",
        "  # Create box plots to visualize the data\n",
        "  plt.figure(figsize=(8, 6))\n",
        "  plt.boxplot(data, labels=group_labels)\n",
        "  plt.xlabel('Groups')\n",
        "  plt.ylabel('Values')\n",
        "  plt.title('One-way ANOVA and Box Plots')\n",
        "\n",
        "  # Display the F-statistic and p-value\n",
        "  plt.text(0.5, 0.95, f\"F-statistic: {f_statistic:.2f}, p-value: {p_value:.3f}\",\n",
        "           horizontalalignment='center', verticalalignment='top', transform=plt.gca().transAxes)\n",
        "\n",
        "  plt.show()\n",
        "\n",
        "\n",
        "# Example usage\n",
        "group1 = [10, 12, 15, 18, 20]\n",
        "group2 = [8, 10, 11, 13, 16]\n",
        "group3 = [12, 14, 16, 18, 20]\n",
        "\n",
        "data = [group1, group2, group3]\n",
        "group_labels = ['Group 1', 'Group 2', 'Group 3']\n",
        "\n",
        "perform_anova_and_plot(data, group_labels)\n"
      ],
      "metadata": {
        "colab": {
          "base_uri": "https://localhost:8080/",
          "height": 619
        },
        "id": "GNPeYSuBSXFU",
        "outputId": "3868750c-f793-4931-9ed5-12e03b4c9dbc"
      },
      "execution_count": null,
      "outputs": [
        {
          "output_type": "stream",
          "name": "stderr",
          "text": [
            "<ipython-input-19-03d74b1a5659>:9: MatplotlibDeprecationWarning: The 'labels' parameter of boxplot() has been renamed 'tick_labels' since Matplotlib 3.9; support for the old name will be dropped in 3.11.\n",
            "  plt.boxplot(data, labels=group_labels)\n"
          ]
        },
        {
          "output_type": "display_data",
          "data": {
            "text/plain": [
              "<Figure size 800x600 with 1 Axes>"
            ],
            "image/png": "[encoded data removed]"
          },
          "metadata": {}
        }
      ]
    },
    {
      "cell_type": "markdown",
      "source": [
        "Q19.Write a Python function to check the assumptions (normality, independence, and equal variance) for ANOVAD."
      ],
      "metadata": {
        "id": "lU7tDZMzSagc"
      }
    },
    {
      "cell_type": "code",
      "source": [
        "def check_anova_assumptions(data_groups):\n",
        "\n",
        "  from scipy.stats import shapiro, levene\n",
        "\n",
        "  assumptions = {\n",
        "      \"normality\": True,\n",
        "      \"independence\": True,  # Assumed to be met unless known otherwise\n",
        "      \"equal_variance\": True\n",
        "  }\n",
        "  issues = \"\"\n",
        "\n",
        "  # Normality check for each group using Shapiro-Wilk test\n",
        "  for group in data_groups:\n",
        "    stat, p = shapiro(group)\n",
        "    if p < 0.05:  # If p-value is less than 0.05, normality assumption is violated\n",
        "      assumptions[\"normality\"] = False\n",
        "      issues += \"Normality assumption may be violated in one or more groups. \"\n",
        "\n",
        "  # Equal variance check using Levene's test\n",
        "  stat, p = levene(*data_groups)\n",
        "  if p < 0.05:\n",
        "    assumptions[\"equal_variance\"] = False\n",
        "    issues += \"Equal variance assumption may be violated. \"\n",
        "\n",
        "  # Independence assumption: typically checked based on the experimental design and data collection process.\n",
        "  # We assume it is met here but consider it in your specific context.\n",
        "\n",
        "  return assumptions, issues\n",
        "\n",
        "\n",
        "# Example usage\n",
        "group1 = [10, 12, 15, 18, 20]\n",
        "group2 = [8, 10, 11, 13, 16]\n",
        "group3 = [12, 14, 16, 18, 20]\n",
        "data_groups = [group1, group2, group3]\n",
        "\n",
        "assumptions, issues = check_anova_assumptions(data_groups)\n",
        "\n",
        "print(\"ANOVA Assumptions:\")\n",
        "print(f\"Normality: {assumptions['normality']}\")\n",
        "print(f\"Independence: {assumptions['independence']}\")\n",
        "print(f\"Equal Variance: {assumptions['equal_variance']}\")\n",
        "\n",
        "if issues:\n",
        "  print(f\"\\nPotential Issues: {issues}\")\n"
      ],
      "metadata": {
        "colab": {
          "base_uri": "https://localhost:8080/"
        },
        "id": "O-MavVqwSk3k",
        "outputId": "2fa536aa-7a93-46e4-843e-1c2798d3ffe9"
      },
      "execution_count": null,
      "outputs": [
        {
          "output_type": "stream",
          "name": "stdout",
          "text": [
            "ANOVA Assumptions:\n",
            "Normality: True\n",
            "Independence: True\n",
            "Equal Variance: True\n"
          ]
        }
      ]
    },
    {
      "cell_type": "markdown",
      "source": [
        "Q20. Perform a two-way ANOVA test using Python to study the interaction between two factors and visualize the results."
      ],
      "metadata": {
        "id": "NOTKT-p8SmxC"
      }
    },
    {
      "cell_type": "code",
      "source": [
        "import statsmodels.formula.api as sm\n",
        "\n",
        "def two_way_anova_with_interaction(data, dependent_variable, factor1, factor2):\n",
        "\n",
        "  # Fit the model with interaction\n",
        "  model = sm.ols(formula=f'{dependent_variable} ~ {factor1} * {factor2}', data=data).fit()\n",
        "\n",
        "  # Print the ANOVA table\n",
        "  print(model.summary())\n",
        "\n",
        "  # You can further analyze the interaction effects and main effects using post-hoc tests or plotting.\n",
        "\n",
        "\n",
        "# Example usage (replace with your actual data)\n",
        "import pandas as pd\n",
        "data = pd.DataFrame({\n",
        "    'score': [10, 12, 15, 18, 20, 8, 10, 11, 13, 16, 12, 14, 16, 18, 20],\n",
        "    'treatment': ['A', 'A', 'A', 'A', 'A', 'B', 'B', 'B', 'B', 'B', 'C', 'C', 'C', 'C', 'C'],\n",
        "    'gender': ['Male', 'Female', 'Male', 'Female', 'Male', 'Male', 'Female', 'Male', 'Female', 'Male', 'Male', 'Female', 'Male', 'Female', 'Male']\n",
        "})\n",
        "\n",
        "two_way_anova_with_interaction(data, 'score', 'treatment', 'gender')\n"
      ],
      "metadata": {
        "colab": {
          "base_uri": "https://localhost:8080/"
        },
        "id": "r5tVNUV8S_GE",
        "outputId": "5c2670e5-2b51-4b39-c427-b70ffa2b6da5"
      },
      "execution_count": null,
      "outputs": [
        {
          "output_type": "stream",
          "name": "stdout",
          "text": [
            "                            OLS Regression Results                            \n",
            "==============================================================================\n",
            "Dep. Variable:                  score   R-squared:                       0.268\n",
            "Model:                            OLS   Adj. R-squared:                 -0.138\n",
            "Method:                 Least Squares   F-statistic:                    0.6601\n",
            "Date:                Thu, 20 Mar 2025   Prob (F-statistic):              0.663\n",
            "Time:                        00:04:54   Log-Likelihood:                -38.308\n",
            "No. Observations:                  15   AIC:                             88.62\n",
            "Df Residuals:                       9   BIC:                             92.86\n",
            "Df Model:                           5                                         \n",
            "Covariance Type:            nonrobust                                         \n",
            "=================================================================================================\n",
            "                                    coef    std err          t      P>|t|      [0.025      0.975]\n",
            "-------------------------------------------------------------------------------------------------\n",
            "Intercept                        15.0000      2.840      5.282      0.001       8.576      21.424\n",
            "treatment[T.B]                   -3.5000      4.016     -0.871      0.406     -12.585       5.585\n",
            "treatment[T.C]                    1.0000      4.016      0.249      0.809      -8.085      10.085\n",
            "gender[T.Male]                 4.116e-15      3.666   1.12e-15      1.000      -8.294       8.294\n",
            "treatment[T.B]:gender[T.Male]     0.1667      5.185      0.032      0.975     -11.562      11.896\n",
            "treatment[T.C]:gender[T.Male] -6.217e-15      5.185   -1.2e-15      1.000     -11.729      11.729\n",
            "==============================================================================\n",
            "Omnibus:                        1.957   Durbin-Watson:                   1.410\n",
            "Prob(Omnibus):                  0.376   Jarque-Bera (JB):                0.944\n",
            "Skew:                           0.070   Prob(JB):                        0.624\n",
            "Kurtosis:                       1.779   Cond. No.                         10.9\n",
            "==============================================================================\n",
            "\n",
            "Notes:\n",
            "[1] Standard Errors assume that the covariance matrix of the errors is correctly specified.\n"
          ]
        },
        {
          "output_type": "stream",
          "name": "stderr",
          "text": [
            "/usr/local/lib/python3.11/dist-packages/scipy/stats/_axis_nan_policy.py:418: UserWarning: `kurtosistest` p-value may be inaccurate with fewer than 20 observations; only n=15 observations were given.\n",
            "  return hypotest_fun_in(*args, **kwds)\n"
          ]
        }
      ]
    },
    {
      "cell_type": "markdown",
      "source": [
        "Q21. Write a Python program to visualize the F-distribution and discuss its use in hypothesis testing."
      ],
      "metadata": {
        "id": "VRIFkRRjTJ8V"
      }
    },
    {
      "cell_type": "code",
      "source": [
        "import numpy as np\n",
        "import matplotlib.pyplot as plt\n",
        "from scipy.stats import f\n",
        "\n",
        "def visualize_f_distribution(dfn, dfd):\n",
        "\n",
        "\n",
        "  x = np.linspace(0, 5, 500)\n",
        "  y = f.pdf(x, dfn, dfd)\n",
        "\n",
        "  plt.plot(x, y)\n",
        "  plt.title(f\"F-Distribution (dfn={dfn}, dfd={dfd})\")\n",
        "  plt.xlabel(\"F-statistic\")\n",
        "  plt.ylabel(\"Probability Density\")\n",
        "  plt.grid(True)\n",
        "  plt.show()\n",
        "\n",
        "  print(\"The F-distribution is a continuous probability distribution used in hypothesis testing.\")\n",
        "  print(\"It is used to compare the variances of two populations or to test the significance of regression models.\")\n",
        "  print(\"In the context of ANOVA, the F-test is used to determine if there are significant differences between the means of three or more groups.\")\n",
        "\n",
        "\n",
        "# Example usage:\n",
        "dfn = 5\n",
        "dfd = 10\n",
        "visualize_f_distribution(dfn, dfd)\n"
      ],
      "metadata": {
        "colab": {
          "base_uri": "https://localhost:8080/",
          "height": 524
        },
        "id": "8ZxNsPPjTTw_",
        "outputId": "6f421aa0-772d-4e03-fbe3-207211c64093"
      },
      "execution_count": null,
      "outputs": [
        {
          "output_type": "display_data",
          "data": {
            "text/plain": [
              "<Figure size 640x480 with 1 Axes>"
            ],
            "image/png": "[encoded data removed]"
          },
          "metadata": {}
        },
        {
          "output_type": "stream",
          "name": "stdout",
          "text": [
            "The F-distribution is a continuous probability distribution used in hypothesis testing.\n",
            "It is used to compare the variances of two populations or to test the significance of regression models.\n",
            "In the context of ANOVA, the F-test is used to determine if there are significant differences between the means of three or more groups.\n"
          ]
        }
      ]
    },
    {
      "cell_type": "markdown",
      "source": [
        "Q22. Perform a one-way ANOVA test in Python and visualize the results with boxplots to compare group means."
      ],
      "metadata": {
        "id": "BDcb-AWgTW2x"
      }
    },
    {
      "cell_type": "code",
      "source": [
        "def perform_anova_and_visualize_boxplots(data, group_labels):\n",
        "\n",
        "\n",
        "  # Perform one-way ANOVA\n",
        "  f_statistic, p_value = f_oneway(*data)\n",
        "\n",
        "  # Create box plots to visualize the data\n",
        "  plt.figure(figsize=(8, 6))\n",
        "  plt.boxplot(data, labels=group_labels)\n",
        "  plt.xlabel('Groups')\n",
        "  plt.ylabel('Values')\n",
        "  plt.title('One-way ANOVA and Box Plots')\n",
        "\n",
        "  # Display the F-statistic and p-value\n",
        "  plt.text(0.5, 0.95, f\"F-statistic: {f_statistic:.2f}, p-value: {p_value:.3f}\",\n",
        "           horizontalalignment='center', verticalalignment='top', transform=plt.gca().transAxes)\n",
        "\n",
        "  plt.show()\n",
        "\n",
        "# Example usage:\n",
        "group1 = [10, 12, 15, 18, 20]\n",
        "group2 = [8, 10, 11, 13, 16]\n",
        "group3 = [12, 14, 16, 18, 20]\n",
        "\n",
        "data = [group1, group2, group3]\n",
        "group_labels = ['Group 1', 'Group 2', 'Group 3']\n",
        "\n",
        "perform_anova_and_visualize_boxplots(data, group_labels)\n"
      ],
      "metadata": {
        "colab": {
          "base_uri": "https://localhost:8080/",
          "height": 619
        },
        "id": "CFGpi_u5Th4b",
        "outputId": "cfe96413-cd26-48d2-e133-ad328699538c"
      },
      "execution_count": null,
      "outputs": [
        {
          "output_type": "stream",
          "name": "stderr",
          "text": [
            "<ipython-input-24-858d95d45bc4>:9: MatplotlibDeprecationWarning: The 'labels' parameter of boxplot() has been renamed 'tick_labels' since Matplotlib 3.9; support for the old name will be dropped in 3.11.\n",
            "  plt.boxplot(data, labels=group_labels)\n"
          ]
        },
        {
          "output_type": "display_data",
          "data": {
            "text/plain": [
              "<Figure size 800x600 with 1 Axes>"
            ],
            "image/png": "[encoded data removed]"
          },
          "metadata": {}
        }
      ]
    },
    {
      "cell_type": "markdown",
      "source": [
        "Q23. Simulate random data from a normal distribution, then perform hypothesis testing to evaluate the means."
      ],
      "metadata": {
        "id": "88EsYrvpTmP8"
      }
    },
    {
      "cell_type": "code",
      "source": [
        "import numpy as np\n",
        "from scipy.stats import norm\n",
        "from scipy.stats import ttest_ind\n",
        "import matplotlib.pyplot as plt\n",
        "from scipy.stats import ttest_rel\n",
        "from scipy.stats import ttest_1samp\n",
        "from scipy.stats import t\n",
        "from scipy.stats import chi2_contingency\n",
        "from scipy.stats import chisquare\n",
        "from scipy.stats import chi2\n",
        "from scipy.stats import f\n",
        "from scipy.stats import f_oneway\n",
        "from scipy.stats import shapiro, levene\n",
        "import statsmodels.formula.api as sm\n",
        "import pandas as pd\n",
        "\n",
        "# Simulate data from two normal distributions\n",
        "np.random.seed(42)\n",
        "sample_size = 30\n",
        "mean1 = 50\n",
        "std1 = 10\n",
        "mean2 = 55\n",
        "std2 = 10\n",
        "\n",
        "sample1 = np.random.normal(loc=mean1, scale=std1, size=sample_size)\n",
        "sample2 = np.random.normal(loc=mean2, scale=std2, size=sample_size)\n",
        "\n",
        "\n",
        "# Perform independent samples t-test to compare means\n",
        "t_statistic, p_value = ttest_ind(sample1, sample2)\n",
        "print(f\"Independent Samples T-test: T-statistic = {t_statistic:.2f}, P-value = {p_value:.3f}\")\n",
        "\n",
        "# Interpret the results\n",
        "alpha = 0.05\n",
        "if p_value < alpha:\n",
        "    print(\"Reject the null hypothesis. There is a statistically significant difference between the means of the two groups.\")\n",
        "else:\n",
        "    print(\"Fail to reject the null hypothesis. There is no statistically significant difference between the means of the two groups.\")\n",
        "\n"
      ],
      "metadata": {
        "colab": {
          "base_uri": "https://localhost:8080/"
        },
        "id": "_TjiJfZUTyiv",
        "outputId": "8f2f1b03-81e1-40fe-eb5e-3f386e99a289"
      },
      "execution_count": null,
      "outputs": [
        {
          "output_type": "stream",
          "name": "stdout",
          "text": [
            "Independent Samples T-test: T-statistic = -2.40, P-value = 0.020\n",
            "Reject the null hypothesis. There is a statistically significant difference between the means of the two groups.\n"
          ]
        }
      ]
    },
    {
      "cell_type": "markdown",
      "source": [
        "Q24.D Perform a hypothesis test for population variance using a Chi-square distribution and interpret the results."
      ],
      "metadata": {
        "id": "kc5uLOlcT15v"
      }
    },
    {
      "cell_type": "code",
      "source": [
        "def chi_square_variance_test(data, population_variance):\n",
        "\n",
        "  n = len(data)\n",
        "  sample_variance = np.var(data, ddof=1)  # Sample variance (using Bessel's correction)\n",
        "  chi_square_statistic = (n - 1) * sample_variance / population_variance\n",
        "  p_value = chi2.sf(chi_square_statistic, df=n - 1)  # Survival function (1 - CDF)\n",
        "  return chi_square_statistic, p_value, n - 1\n",
        "\n",
        "\n",
        "# Example usage:\n",
        "data = [10, 12, 15, 18, 20, 22, 19, 17, 14, 16]  # Replace with your sample data\n",
        "population_variance_hypothesis = 10  # Replace with your hypothesized population variance\n",
        "\n",
        "chi_square, p_value, df = chi_square_variance_test(data, population_variance_hypothesis)\n",
        "\n",
        "print(f\"Chi-square statistic: {chi_square:.2f}\")\n",
        "print(f\"P-value: {p_value:.3f}\")\n",
        "print(f\"Degrees of freedom: {df}\")\n",
        "\n",
        "# Interpretation:\n",
        "alpha = 0.05  # Significance level\n",
        "if p_value < alpha:\n",
        "  print(\n",
        "      \"The p-value is less than the significance level, so we reject the null hypothesis.\"\n",
        "      \"There is evidence to suggest that the population variance is significantly different from the hypothesized value.\"\n",
        "  )\n",
        "else:\n",
        "  print(\n",
        "      \"The p-value is greater than or equal to the significance level, so we fail to reject the null hypothesis.\"\n",
        "      \"There is no evidence to suggest that the population variance is significantly different from the hypothesized value.\"\n",
        "  )"
      ],
      "metadata": {
        "colab": {
          "base_uri": "https://localhost:8080/"
        },
        "id": "CppX7Lc2UCQ_",
        "outputId": "3b65a63e-d350-4ac8-c50b-3974a57c27a0"
      },
      "execution_count": null,
      "outputs": [
        {
          "output_type": "stream",
          "name": "stdout",
          "text": [
            "Chi-square statistic: 12.21\n",
            "P-value: 0.202\n",
            "Degrees of freedom: 9\n",
            "The p-value is greater than or equal to the significance level, so we fail to reject the null hypothesis.There is no evidence to suggest that the population variance is significantly different from the hypothesized value.\n"
          ]
        }
      ]
    },
    {
      "cell_type": "markdown",
      "source": [
        "Q25. Write a Python script to perform a Z-test for comparing proportions between two datasets or groups."
      ],
      "metadata": {
        "id": "mxz6QjYNUE4y"
      }
    },
    {
      "cell_type": "code",
      "source": [
        "import numpy as np\n",
        "from scipy.stats import norm\n",
        "\n",
        "def z_test_proportions(n1, p1, n2, p2):\n",
        "\n",
        "\n",
        "  # Calculate the pooled proportion\n",
        "  pooled_p = (n1 * p1 + n2 * p2) / (n1 + n2)\n",
        "\n",
        "  # Calculate the standard error\n",
        "  standard_error = np.sqrt(pooled_p * (1 - pooled_p) * (1 / n1 + 1 / n2))\n",
        "\n",
        "  # Calculate the Z-statistic\n",
        "  z_statistic = (p1 - p2) / standard_error\n",
        "\n",
        "  # Calculate the p-value\n",
        "  p_value = norm.sf(abs(z_statistic)) * 2  # Two-tailed test\n",
        "\n",
        "  return z_statistic, p_value\n",
        "\n",
        "\n",
        "# Example usage:\n",
        "n1 = 100  # Sample size of group 1\n",
        "p1 = 0.6  # Proportion of successes in group 1\n",
        "n2 = 150  # Sample size of group 2\n",
        "p2 = 0.4  # Proportion of successes in group 2\n",
        "\n",
        "z_statistic, p_value = z_test_proportions(n1, p1, n2, p2)\n",
        "\n",
        "print(f\"Z-statistic: {z_statistic:.2f}\")\n",
        "print(f\"P-value: {p_value:.3f}\")\n",
        "\n",
        "# Interpretation:\n",
        "alpha = 0.05  # Significance level\n",
        "if p_value < alpha:\n",
        "  print(\n",
        "      \"The p-value is less than the significance level, so we reject the null hypothesis.\"\n",
        "      \"There is evidence to suggest that the proportions of successes in the two groups are significantly different.\"\n",
        "  )\n",
        "else:\n",
        "  print(\n",
        "      \"The p-value is greater than or equal to the significance level, so we fail to reject the null hypothesis.\"\n",
        "      \"There is no evidence to suggest that the proportions of successes in the two groups are significantly different.\"\n",
        "  )\n"
      ],
      "metadata": {
        "colab": {
          "base_uri": "https://localhost:8080/"
        },
        "id": "jjOiTF1TUSFX",
        "outputId": "c4b09a2c-d84f-423a-b663-3a49c8fd7a9d"
      },
      "execution_count": null,
      "outputs": [
        {
          "output_type": "stream",
          "name": "stdout",
          "text": [
            "Z-statistic: 3.10\n",
            "P-value: 0.002\n",
            "The p-value is less than the significance level, so we reject the null hypothesis.There is evidence to suggest that the proportions of successes in the two groups are significantly different.\n"
          ]
        }
      ]
    },
    {
      "cell_type": "markdown",
      "source": [
        "Q26.Implement an F-test for comparing the variances of two datasets, then interpret and visualize the results."
      ],
      "metadata": {
        "id": "sYKhtz5MUV7V"
      }
    },
    {
      "cell_type": "code",
      "source": [
        "def f_test_variances(data1, data2, alpha=0.05):\n",
        "\n",
        "\n",
        "  variance1 = np.var(data1, ddof=1)  # Sample variance of data1\n",
        "  variance2 = np.var(data2, ddof=1)  # Sample variance of data2\n",
        "  n1 = len(data1)\n",
        "  n2 = len(data2)\n",
        "\n",
        "  # Calculate F-statistic (larger variance / smaller variance)\n",
        "  if variance1 >= variance2:\n",
        "    f_statistic = variance1 / variance2\n",
        "    df1 = n1 - 1\n",
        "    df2 = n2 - 1\n",
        "  else:\n",
        "    f_statistic = variance2 / variance1\n",
        "    df1 = n2 - 1\n",
        "    df2 = n1 - 1\n",
        "\n",
        "  # Calculate p-value\n",
        "  p_value = f.sf(f_statistic, df1, df2)  # Survival function (1 - CDF)\n",
        "\n",
        "  # Interpretation\n",
        "  if p_value < alpha:\n",
        "    interpretation = (\n",
        "        \"The p-value is less than the significance level, so we reject the null hypothesis.\"\n",
        "        \"There is evidence to suggest that the variances of the two populations are significantly different.\"\n",
        "    )\n",
        "  else:\n",
        "    interpretation = (\n",
        "        \"The p-value is greater than or equal to the significance level, so we fail to reject the null hypothesis.\"\n",
        "        \"There is no evidence to suggest that the variances of the two populations are significantly different.\"\n",
        "    )\n",
        "\n",
        "  return f_statistic, p_value, interpretation\n",
        "\n",
        "\n",
        "# Example usage:\n",
        "data1 = [10, 12, 15, 18, 20]\n",
        "data2 = [8, 10, 11, 13, 16]\n",
        "\n",
        "f_statistic, p_value, interpretation = f_test_variances(data1, data2)\n",
        "\n",
        "print(f\"F-statistic: {f_statistic:.2f}\")\n",
        "print(f\"P-value: {p_value:.3f}\")\n",
        "print(interpretation)\n",
        "\n",
        "# Visualize the F-distribution\n",
        "dfn = len(data1) - 1\n",
        "dfd = len(data2) - 1\n",
        "x = np.linspace(0, 5, 500)\n",
        "y = f.pdf(x, dfn, dfd)\n",
        "\n",
        "plt.plot(x, y)\n",
        "plt.title(f\"F-Distribution (dfn={dfn}, dfd={dfd})\")\n",
        "plt.xlabel(\"F-statistic\")\n",
        "plt.ylabel(\"Probability Density\")\n",
        "plt.axvline(f_statistic, color='red', linestyle='--', label='Calculated F-statistic')\n",
        "plt.legend()\n",
        "plt.grid(True)\n",
        "plt.show()\n"
      ],
      "metadata": {
        "colab": {
          "base_uri": "https://localhost:8080/",
          "height": 544
        },
        "id": "uwot6YoNUlXf",
        "outputId": "f0e12987-50ac-4ad1-dd73-b4b7fbf6dba7"
      },
      "execution_count": null,
      "outputs": [
        {
          "output_type": "stream",
          "name": "stdout",
          "text": [
            "F-statistic: 1.83\n",
            "P-value: 0.287\n",
            "The p-value is greater than or equal to the significance level, so we fail to reject the null hypothesis.There is no evidence to suggest that the variances of the two populations are significantly different.\n"
          ]
        },
        {
          "output_type": "display_data",
          "data": {
            "text/plain": [
              "<Figure size 640x480 with 1 Axes>"
            ],
            "image/png": "[encoded data removed]"
          },
          "metadata": {}
        }
      ]
    },
    {
      "cell_type": "markdown",
      "source": [
        "Q27. Perform a Chi-square test for goodness of fit with simulated data and analyze the results."
      ],
      "metadata": {
        "id": "2EokQZdPUnbn"
      }
    },
    {
      "cell_type": "code",
      "source": [
        "# Simulate observed data (e.g., from a categorical variable)\n",
        "np.random.seed(42)\n",
        "observed_data = np.random.multinomial(n=100, pvals=[0.25, 0.25, 0.25, 0.25])\n",
        "\n",
        "# Define the expected distribution (e.g., a uniform distribution)\n",
        "expected_distribution = [25, 25, 25, 25]\n",
        "\n",
        "# Perform the Chi-square test for goodness of fit\n",
        "chi2_statistic, p_value = chisquare(observed_data, expected_distribution)\n",
        "\n",
        "print(f\"Chi-square statistic: {chi2_statistic:.2f}\")\n",
        "print(f\"P-value: {p_value:.3f}\")\n",
        "\n",
        "# Analyze the results\n",
        "alpha = 0.05  # Significance level\n",
        "if p_value < alpha:\n",
        "  print(\n",
        "      \"The p-value is less than the significance level, so we reject the null hypothesis.\"\n",
        "      \"There is evidence to suggest that the observed data does not fit the expected distribution.\"\n",
        "  )\n",
        "else:\n",
        "  print(\n",
        "      \"The p-value is greater than or equal to the significance level, so we fail to reject the null hypothesis.\"\n",
        "      \"There is no evidence to suggest that the observed data does not fit the expected distribution.\"\n",
        "  )\n"
      ],
      "metadata": {
        "colab": {
          "base_uri": "https://localhost:8080/"
        },
        "id": "xF__aqX_VAqk",
        "outputId": "e9a111e9-3b49-482c-8472-8b0a8ed67197"
      },
      "execution_count": null,
      "outputs": [
        {
          "output_type": "stream",
          "name": "stdout",
          "text": [
            "Chi-square statistic: 3.04\n",
            "P-value: 0.385\n",
            "The p-value is greater than or equal to the significance level, so we fail to reject the null hypothesis.There is no evidence to suggest that the observed data does not fit the expected distribution.\n"
          ]
        }
      ]
    }
  ]
}